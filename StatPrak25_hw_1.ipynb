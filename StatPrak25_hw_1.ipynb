{
  "nbformat": 4,
  "nbformat_minor": 0,
  "metadata": {
    "colab": {
      "provenance": []
    },
    "kernelspec": {
      "name": "python3",
      "display_name": "Python 3"
    },
    "language_info": {
      "name": "python"
    }
  },
  "cells": [
    {
      "cell_type": "markdown",
      "metadata": {
        "id": "xw8BD8v2oBGj"
      },
      "source": [
        "# Homework"
      ]
    },
    {
      "cell_type": "markdown",
      "metadata": {
        "id": "sSos7q2_oBGj"
      },
      "source": [
        "## Problem 1"
      ]
    },
    {
      "cell_type": "markdown",
      "metadata": {
        "id": "NiX8ePp0oBGk"
      },
      "source": [
        "Make a tuple containing natural numbers, the square of which is a multiple of 3, 4, but not a multiple of 8 and not exceeding 12345."
      ]
    },
    {
      "cell_type": "code",
      "execution_count": 2,
      "metadata": {
        "id": "XmPHEnS9oBGk",
        "colab": {
          "base_uri": "https://localhost:8080/"
        },
        "outputId": "4b675550-1ef5-48fa-b99b-d927f66d20d7"
      },
      "outputs": [
        {
          "output_type": "stream",
          "name": "stdout",
          "text": [
            "(6, 18, 30, 42, 54, 66, 78, 90, 102)\n"
          ]
        }
      ],
      "source": [
        "import math\n",
        "print(tuple(i for i in range(1, int(math.sqrt(12345)) + 1) if (i**2) % 3 == 0 and (i**2) % 4 == 0 and (i**2) % 8 != 0 and (i**2) <= 12345) )"
      ]
    },
    {
      "cell_type": "markdown",
      "metadata": {
        "id": "OZBeUyxcoBGk"
      },
      "source": [
        "## Problem 2"
      ]
    },
    {
      "cell_type": "markdown",
      "metadata": {
        "id": "zIfvg22noBGk"
      },
      "source": [
        "\n",
        "Write a function that takes a two-dimensional array and a string as input and returns an array rotated 90 degrees counterclockwise if the string 'left' was passed, and clockwise if the string 'right' was passed.\n",
        "\n",
        "Example for input: $\\begin{bmatrix} 1 & 2 & 3 \\\\ 4 & 5 & 6 \\\\ 7 & 8 & 9 \\end{bmatrix}$.\\\n",
        "If the string 'left' is passed, the function should return $\\begin{bmatrix} 3 & 6 & 9 \\\\ 2 & 5 & 8 \\\\ 1 & 4 & 7 \\end{bmatrix}$, and if the string 'right' is passed, the function should return $\\begin{bmatrix} 7 & 4 & 1 \\\\ 8 & 5 & 2 \\\\ 9 & 6 & 3 \\end{bmatrix}$."
      ]
    },
    {
      "cell_type": "code",
      "execution_count": 12,
      "metadata": {
        "id": "HNvy_cRjoBGk",
        "colab": {
          "base_uri": "https://localhost:8080/"
        },
        "outputId": "2a5f81ca-581d-4e15-fda3-d1159b09e8ed"
      },
      "outputs": [
        {
          "output_type": "stream",
          "name": "stdout",
          "text": [
            "[[7, 4, 1], [8, 5, 2], [9, 6, 3]]\n"
          ]
        }
      ],
      "source": [
        "#numpy или через индексы нельзя ? :(\n",
        "def rotate (a, dir):\n",
        "    if dir=='right':\n",
        "        return [list(reversed(col)) for col in zip(*a)]\n",
        "    if dir=='left':\n",
        "      return [list(col) for col in reversed(list(zip(*a)))]\n",
        "\n",
        "a=[[1,2,3],[4,5,6],[7,8,9]]\n",
        "print(rotate(a, 'right'))"
      ]
    },
    {
      "cell_type": "markdown",
      "metadata": {
        "id": "_dY-PFlCoBGk"
      },
      "source": [
        "## Problem 3"
      ]
    },
    {
      "cell_type": "markdown",
      "metadata": {
        "id": "3CaIwcm0oBGk"
      },
      "source": [
        "Write a function that takes a string as input and returns a dictionary containing the number of occurrences of each character in the string.\n",
        "\n",
        "Example for the string 'hello, world!': {'h': 1, 'e': 1, 'l': 3, 'o': 2, ',': 1, ' ': 1, 'w': 1, 'r': 1, 'd': 1, '!': 1}."
      ]
    },
    {
      "cell_type": "code",
      "execution_count": 14,
      "metadata": {
        "id": "rlSbHusZoBGk",
        "colab": {
          "base_uri": "https://localhost:8080/"
        },
        "outputId": "cb0ea435-1145-4fe1-bd45-71bc34c4e5d2"
      },
      "outputs": [
        {
          "output_type": "stream",
          "name": "stdout",
          "text": [
            "{'c': 1, 'a': 2, 'd': 1, 'v': 1, 'e': 1, 'r': 1}\n"
          ]
        }
      ],
      "source": [
        "from collections import Counter\n",
        "def DISMEMBER (str):\n",
        "    return dict(Counter(str))\n",
        "print(DISMEMBER('cadaver'))"
      ]
    },
    {
      "cell_type": "markdown",
      "metadata": {
        "id": "KBGJ7PeboBGk"
      },
      "source": [
        "## Problem 4"
      ]
    },
    {
      "cell_type": "markdown",
      "metadata": {
        "id": "XS4Seqa9oBGk"
      },
      "source": [
        "### Implementing a Library Management System\n",
        "\n",
        "#### Description\n",
        "\n",
        "You are required to design and implement a system for managing books and users in a library. The system should allow for the management of books (adding, deleting, searching by various criteria) and users (registration, deletion, searching), as well as tracking the history of interactions between them (issuing and returning books).\n",
        "\n",
        "#### Tasks\n",
        "\n",
        "1. **`Book` Class**:\n",
        "   - Attributes: title, author, year of publication, ISBN, number of copies.\n",
        "   - Methods: constructor, methods to get information about the book, method to change the number of copies (when issuing and returning books).\n",
        "\n",
        "2. **`User` Class**:\n",
        "   - Attributes: user name, library card number, list of borrowed books.\n",
        "   - Methods: constructor, methods for user registration, methods for adding and removing books from the borrowed list.\n",
        "\n",
        "3. **`Library` Class**:\n",
        "   - Attributes: list of books, list of users, transaction history (who, when, which book was borrowed and returned).\n",
        "   - Methods: constructor, methods for adding and deleting books and users, methods for issuing and returning books, searching for books and users by various criteria, method to display the transaction history.\n",
        "\n",
        "#### Assignment\n",
        "\n",
        "1. Implement the `Book`, `User`, and `Library` classes with the specified attributes and methods.\n",
        "2. Create several books and users, and add them to the library system.\n",
        "3. Implement scenarios for issuing books to users and their return.\n",
        "4. Display the transaction history to show how books were issued and returned.\n"
      ]
    },
    {
      "cell_type": "code",
      "execution_count": 13,
      "metadata": {
        "id": "IbqwtWWsoBGl",
        "colab": {
          "base_uri": "https://localhost:8080/"
        },
        "outputId": "830c98f1-650f-4bf2-d80e-bbd243e6c0d7"
      },
      "outputs": [
        {
          "output_type": "stream",
          "name": "stdout",
          "text": [
            "Alice borrowed book1\n",
            "Alice returned book1\n",
            "Transaction history:\n",
            "Alice borrowed book1\n",
            "Alice returned book1\n",
            "\n",
            "Found books:\n",
            "book1 written by author1, published in 2000, ISBN: 123, copies available: 100\n",
            "None\n"
          ]
        }
      ],
      "source": [
        "class Book:\n",
        "    def __init__(self, title, author, pub_year, ISBN, cop_count):\n",
        "        self.title=title\n",
        "        self.author=author\n",
        "        self.pub_year=pub_year\n",
        "        self.ISBN=ISBN\n",
        "        self.copies=cop_count\n",
        "    def get_info(self):\n",
        "        print(f'{self.title} written by {self.author}, published in {self.pub_year}, ISBN: {self.ISBN}, copies available: {self.copies}')\n",
        "    def change_copies(self,x):\n",
        "        self.copies+=x\n",
        "        if self.copies<0: self.copies=0\n",
        "\n",
        "class User:\n",
        "    def __init__(self):\n",
        "        self.name = ''\n",
        "        self.card_number = ''\n",
        "        self.books_borrowed = []\n",
        "\n",
        "    def registration(self,name, card_number):\n",
        "        self.name = name\n",
        "        self.card_number = card_number\n",
        "\n",
        "    def add_book(self, book):\n",
        "        self.books_borrowed.append(book)\n",
        "\n",
        "    def remove_book(self, book):\n",
        "        if book in self.books_borrowed:\n",
        "            self.books_borrowed.remove(book)\n",
        "\n",
        "class Library:\n",
        "    def __init__(self):\n",
        "        self.books = []\n",
        "        self.users = []\n",
        "        self.transaction_history = []\n",
        "\n",
        "    def add_book(self, book):\n",
        "        self.books.append(book)\n",
        "\n",
        "    def delete_book(self, isbn):\n",
        "        for book in self.books:\n",
        "            if book.ISBN == isbn:\n",
        "                self.books.remove(book)\n",
        "                print('the book is deleted')\n",
        "        print('the book is not found')\n",
        "\n",
        "    def add_user(self, user):\n",
        "        self.users.append(user)\n",
        "\n",
        "    def delete_user(self, card_number):\n",
        "        for user in self.users:\n",
        "            if user.card_number == card_number:\n",
        "                self.users.remove(user)\n",
        "                return print('the user is deleted')\n",
        "        return print('the user is deleted')\n",
        "\n",
        "    def issue_book(self, user, book_isbn):\n",
        "        book = self.find_book_by_isbn(book_isbn)\n",
        "        if book and book.copies > 0 and user in self.users:\n",
        "            book.change_copies(-1)\n",
        "            user.add_book(book)\n",
        "            self.transaction_history.append(f\"{user.name} borrowed {book.title}\")\n",
        "            print(f\"{user.name} borrowed {book.title}\")\n",
        "        else:\n",
        "            print('user is not found or there are no copies left')\n",
        "\n",
        "    def return_book(self, user, book_isbn):\n",
        "        book = self.find_book_by_isbn(book_isbn)\n",
        "        if book and user in self.users and book in user.books_borrowed:\n",
        "            book.change_copies(1)\n",
        "            user.remove_book(book)\n",
        "            self.transaction_history.append(f\"{user.name} returned {book.title}\")\n",
        "            print(f\"{user.name} returned {book.title}\")\n",
        "        else:\n",
        "            print('user is not found or the book was not borrowed')\n",
        "\n",
        "    def find_book_by_title(self, title):\n",
        "         return [book for book in self.books if title.lower() in book.title.lower()]\n",
        "\n",
        "    def find_book_by_author(self, author):\n",
        "         return [book for book in self.books if author.lower() in book.author.lower()]\n",
        "\n",
        "    def find_book_by_isbn(self, isbn):\n",
        "         for book in self.books:\n",
        "            if book.ISBN == isbn:\n",
        "                return book\n",
        "         return None\n",
        "\n",
        "    def find_user_by_name(self, name):\n",
        "        \"\"\"Searches for users by name (case-insensitive).\"\"\"\n",
        "        return [user for user in self.users if name.lower() in user.name.lower()]\n",
        "\n",
        "    def find_user_by_card_number(self, card_number):\n",
        "        for user in self.users:\n",
        "            if user.card_number == card_number:\n",
        "                return user\n",
        "        return None\n",
        "\n",
        "    def display_transaction_history(self):\n",
        "        print(\"Transaction history:\")\n",
        "        for transaction in self.transaction_history:\n",
        "            print(transaction)\n",
        "\n",
        "\n",
        "book1 = Book(\"book1\", \"author1\", 2000, \"123\", 100)\n",
        "\n",
        "user1 = User()\n",
        "user2 = User()\n",
        "\n",
        "user1.registration('Alice', 321)\n",
        "library = Library()\n",
        "library.add_user(user1)\n",
        "library.add_book(book1)\n",
        "\n",
        "library.issue_book(user1, \"123\")\n",
        "\n",
        "library.return_book(user1, \"123\")\n",
        "\n",
        "library.display_transaction_history()\n",
        "\n",
        "found_books = library.find_book_by_title(\"book1\")\n",
        "if found_books:\n",
        "    print(\"\\nFound books:\")\n",
        "    for book in found_books:\n",
        "        print(book.get_info())\n",
        "else:\n",
        "    print(\"\\nNo books found with that title.\")"
      ]
    },
    {
      "cell_type": "markdown",
      "metadata": {
        "id": "0c8zRbSIoBGl"
      },
      "source": [
        "## Problem 5*"
      ]
    },
    {
      "cell_type": "markdown",
      "metadata": {
        "id": "8ltdzRmOoBGl"
      },
      "source": [
        "Explain why list `b` changes after the execution of the following code:\n",
        "\n",
        "```python\n",
        "a = [1, 2, 3]\n",
        "b = a\n",
        "a[0] = 4\n",
        "print(b)\n",
        "```"
      ]
    },
    {
      "cell_type": "markdown",
      "metadata": {
        "id": "RxgnUfFPoBGl"
      },
      "source": [
        "> Write your answer in markdown cell after:\n",
        "When we write 'b=a' we make b referring to the same object in memory as list a (we just create a new reference to the same piece of information), because type 'list' is a reference type. So the output is [4,2,3]"
      ]
    },
    {
      "cell_type": "markdown",
      "metadata": {
        "id": "TmXLkc_foBGl"
      },
      "source": [
        "## Problem 6*"
      ]
    },
    {
      "cell_type": "markdown",
      "metadata": {
        "id": "Gn0ibiVCoBGl"
      },
      "source": [
        "Let\n",
        "$$A = \\sum_{i=1}^{10000} \\frac{1}{i^2},\\quad B=\\sum_{i=10000}^{1} \\frac{1}{i^2}.$$\n",
        "Calculate the values of $A$ and $B$ and compare them. What do you observe? Explain why this happens. What is the best way to calculate the value of $\\sum\\limits_{i=1}^{10000} \\dfrac{1}{i^2}$?"
      ]
    },
    {
      "cell_type": "code",
      "execution_count": 24,
      "metadata": {
        "id": "3q93uGqFoBGl",
        "colab": {
          "base_uri": "https://localhost:8080/"
        },
        "outputId": "6d1417c7-8bfe-4639-872c-fe202441d006"
      },
      "outputs": [
        {
          "output_type": "stream",
          "name": "stdout",
          "text": [
            "1.6448340718480652\n",
            "1.6448340718480596\n"
          ]
        }
      ],
      "source": [
        "A=0\n",
        "B=0\n",
        "for i in range(1,10001):\n",
        "    A+=1.0/(i**2)\n",
        "for i in reversed(range(1,10001)):\n",
        "    B+=1.0/(i**2)\n",
        "print(A)\n",
        "print(B)"
      ]
    },
    {
      "cell_type": "markdown",
      "source": [
        "The results differ due to the loss of precision in floating-point representation. When we add a new term to the sum A, it is relatively small comparing to this sum. The small number's contribution is smaller than the smallest increment that the large number's representation can express. The backward summation (B) is the best method because the smallest terms are added first and it minimizes the inaccuracy of floating-point representation."
      ],
      "metadata": {
        "id": "VDStPo9-TKrM"
      }
    }
  ]
}